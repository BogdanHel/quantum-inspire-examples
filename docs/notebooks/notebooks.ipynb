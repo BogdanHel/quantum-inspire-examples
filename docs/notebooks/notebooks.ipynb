{
 "cells": [
  {
   "cell_type": "markdown",
   "metadata": {},
   "source": [
    "## Exercise test 1"
   ]
  },
  {
   "cell_type": "code",
   "execution_count": null,
   "metadata": {},
   "outputs": [],
   "source": [
    "import os\n",
    "\n",
    "from qiskit import transpile\n",
    "from qiskit.circuit import QuantumRegister, ClassicalRegister, QuantumCircuit\n",
    "\n",
    "from quantuminspire.credentials import get_authentication\n",
    "from quantuminspire.qiskit import QI\n",
    "from quantuminspire.credentials import enable_account\n",
    "enable_account('b70fbdd4cbcde00319c844ff1ce39f8e7d0b81f9')\n",
    "\n",
    "QI_URL = os.getenv('API_URL', 'https://api.quantum-inspire.com/')"
   ]
  },
  {
   "cell_type": "code",
   "execution_count": null,
   "metadata": {},
   "outputs": [],
   "source": [
    "project_name = 'Qiskit-entangle-test'\n",
    "authentication = get_authentication()\n",
    "QI.set_authentication(authentication, QI_URL, project_name=project_name)\n",
    "qi_backend = QI.get_backend('QX single-node simulator')"
   ]
  },
  {
   "cell_type": "code",
   "execution_count": 3,
   "metadata": {},
   "outputs": [
    {
     "name": "stderr",
     "output_type": "stream",
     "text": [
      "/var/folders/x_/47cl6mrx5mvc1m583_0h0x99n8hxkc/T/ipykernel_79015/101602829.py:17: DeprecationWarning: The method ``qiskit.providers.provider.ProviderV1.get_backend()`` is deprecated as of qiskit 1.1. It will be removed no earlier than 3 months after the release date. The abstract Provider and ProviderV1 classes are deprecated and will  be removed in 2.0. You can just remove it as the parent class and a `get_backend` method that returns the backends from `self.backend`.\n",
      "  qi_backend = QI.get_backend('QX single-node simulator')\n"
     ]
    },
    {
     "name": "stdout",
     "output_type": "stream",
     "text": [
      "\n",
      "State\tCounts\n",
      "00\t\t132\n",
      "11\t\t124\n",
      "\n",
      "State\tProbabilities\n",
      "00\t\t0.515625\n",
      "11\t\t0.484375\n"
     ]
    },
    {
     "data": {
      "text/plain": [
       "[None, None]"
      ]
     },
     "execution_count": 3,
     "metadata": {},
     "output_type": "execute_result"
    }
   ],
   "source": [
    "q = QuantumRegister(2)\n",
    "b = ClassicalRegister(2)\n",
    "circuit = QuantumCircuit(q, b)\n",
    "\n",
    "\n",
    "circuit.h(q[0])\n",
    "circuit.cx(q[0], q[1])\n",
    "circuit.measure(q, b)\n",
    "\n",
    "circuit = transpile(circuit, backend=qi_backend)\n",
    "qi_job = qi_backend.run(circuit, shots=256)\n",
    "qi_result = qi_job.result()\n",
    "histogram = qi_result.get_counts(circuit)\n",
    "print('\\nState\\tCounts')\n",
    "[print('{0}\\t\\t{1}'.format(state, counts)) for state, counts in histogram.items()]\n",
    "# Print the full state probabilities histogram\n",
    "probabilities_histogram = qi_result.get_probabilities(circuit)\n",
    "print('\\nState\\tProbabilities')\n",
    "[print('{0}\\t\\t{1}'.format(state, val)) for state, val in probabilities_histogram.items()]\n"
   ]
  },
  {
   "cell_type": "markdown",
   "metadata": {},
   "source": [
    "There is a lot more that you can do with outputs (such as including interactive outputs)\n",
    "with your book. For more information about this, see [the Jupyter Book documentation](https://jupyterbook.org)"
   ]
  }
 ],
 "metadata": {
  "kernelspec": {
   "display_name": "Python 3",
   "language": "python",
   "name": "python3"
  },
  "language_info": {
   "codemirror_mode": {
    "name": "ipython",
    "version": 3
   },
   "file_extension": ".py",
   "mimetype": "text/x-python",
   "name": "python",
   "nbconvert_exporter": "python",
   "pygments_lexer": "ipython3",
   "version": "3.12.3"
  },
  "widgets": {
   "application/vnd.jupyter.widget-state+json": {
    "state": {},
    "version_major": 2,
    "version_minor": 0
   }
  }
 },
 "nbformat": 4,
 "nbformat_minor": 4
}
