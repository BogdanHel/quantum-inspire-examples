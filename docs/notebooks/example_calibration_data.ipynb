{
 "cells": [
  {
   "cell_type": "markdown",
   "id": "eceacbd4-e2fd-43b2-8b21-31e4b6fbd642",
   "metadata": {},
   "source": [
    "# Retrieving calibration data from Quantum Inspire\n",
    "\n",
    "Pieter Eendebak <pieter.eendebak@tno.nl>\n",
    "\n",
    "- Intro ...\n",
    "- Compilation and transpilation options not available at this moment. See knowledge base for details\n",
    "- Calibrations are coupled to experiments. Even though the calibrations are done on a periodic basis (e.g. once per day), every experiment gets mapped to such a calibration.\n",
    "- Calibrations are backend specific"
   ]
  },
  {
   "cell_type": "code",
   "execution_count": 5,
   "id": "989e4628-fdb7-403e-a33d-6bbca8e94b30",
   "metadata": {},
   "outputs": [],
   "source": [
    "import os\n",
    "\n",
    "import numpy as np\n",
    "import setuptools\n",
    "from qiskit import execute\n",
    "from qiskit.circuit import ClassicalRegister, QuantumCircuit, QuantumRegister\n",
    "from quantuminspire.api import QuantumInspireAPI\n",
    "from quantuminspire.credentials import get_token_authentication, load_account\n",
    "from quantuminspire.qiskit import QI\n",
    "from typing import Any\n",
    "\n",
    "try:\n",
    "    from rich import print as rprint\n",
    "except ImportError:\n",
    "    rprint = print"
   ]
  },
  {
   "cell_type": "markdown",
   "id": "2b924665-881b-4244-8a3a-efc7b4edab98",
   "metadata": {},
   "source": [
    "## Set credentials"
   ]
  },
  {
   "cell_type": "code",
   "execution_count": 14,
   "id": "01d6693a-ac5f-4b3e-9609-cbb2f3c50aa5",
   "metadata": {},
   "outputs": [],
   "source": [
    "QI_URL = r'https://api.quantum-inspire.com'\n",
    "token = load_account()\n",
    "authentication = get_token_authentication(token)\n",
    "qi_api = QuantumInspireAPI(QI_URL, authentication)\n",
    "\n",
    "QI.set_authentication(authentication, QI_URL)"
   ]
  },
  {
   "cell_type": "markdown",
   "id": "8dbf3d59-ac90-4791-8a39-ceec5befe662",
   "metadata": {},
   "source": [
    "## Run an experiment to generate data"
   ]
  },
  {
   "cell_type": "code",
   "execution_count": 11,
   "id": "11ce227c-3b5b-4ff0-9644-d74ec4be5afb",
   "metadata": {},
   "outputs": [
    {
     "name": "stdout",
     "output_type": "stream",
     "text": [
      "selected backend Starmon-5\n",
      "execute job on Starmon-5\n",
      "\n",
      "State\tCounts\n",
      "00\t\t145\n",
      "01\t\t9\n",
      "10\t\t8\n",
      "11\t\t94\n"
     ]
    },
    {
     "data": {
      "text/plain": [
       "[None, None, None, None]"
      ]
     },
     "execution_count": 11,
     "metadata": {},
     "output_type": "execute_result"
    }
   ],
   "source": [
    "backend_name = 'Spin-2'\n",
    "if qi_api.get_backend_type_by_name(backend_name)[\"status\"] == \"OFFLINE\":\n",
    "        backend_name='Starmon-5'\n",
    "qi_backend = QI.get_backend(backend_name)\n",
    "\n",
    "print(f'selected backend {backend_name}')\n",
    "\n",
    "circuit = QuantumCircuit(2)\n",
    "\n",
    "circuit.h(0)\n",
    "circuit.cx(0, 1)\n",
    "circuit.measure_all()\n",
    "\n",
    "qi_job = execute(circuit, backend=qi_backend, shots=256)\n",
    "print(f'execute job on {qi_backend}')\n",
    "qi_result = qi_job.result()\n",
    "histogram = qi_result.get_counts(circuit)\n",
    "print(f'Measured: {histogram}')"
   ]
  },
  {
   "cell_type": "code",
   "execution_count": 15,
   "id": "d73f1dce-c1aa-4330-b464-5135354fb705",
   "metadata": {},
   "outputs": [
    {
     "name": "stdout",
     "output_type": "stream",
     "text": [
      "found 1875 jobs\n",
      "found job with id 7064691\n",
      "last calibration at 2021-06-25T09:48:26.546612\n"
     ]
    }
   ],
   "source": [
    "def remove_ordered_dict(d: Any) -> Any:\n",
    "    \"\"\" Replace OrderedDict with dict \"\"\"\n",
    "    if isinstance(d, dict):\n",
    "        return {k: remove_ordered_dict(v) for k, v in d.items()}\n",
    "    else:\n",
    "        return d\n",
    "    \n",
    "backend_name = 'Spin-2'\n",
    "qi_backend = QI.get_backend(backend_name)\n",
    "jj=qi_api.get_jobs()\n",
    "backends = qi_api._get('https://api.quantum-inspire.com/backends')\n",
    "backend_types =  qi_api.get_backend_types() \n",
    "\n",
    "backend_url=[b for b in backends if b['name']==backend_name][0]['url']\n",
    "jobs = [j for j in jj if j['backend']==backend_url]\n",
    "print(f'found {len(jj)} jobs')\n",
    "\n",
    "if len(jobs)==0:\n",
    "    raise Exception('you have not executed jobs in {backend_name}, calibration unavailable')\n",
    "job=jobs[0]\n",
    "print(f\"found job with id {job['id']}\")\n",
    "result=qi_api.get_result_from_job(job['id'])\n",
    "calibration=qi_api.get_calibration_from_result(result['id'])\n",
    "calibration=remove_ordered_dict(calibration)\n",
    "date=calibration['parameters']['system']['last_calibration_date']['value']\n",
    "print(f'last calibration at {date}')"
   ]
  },
  {
   "cell_type": "code",
   "execution_count": 16,
   "id": "f1552fb2-07cc-4434-b306-b06928fea44e",
   "metadata": {},
   "outputs": [],
   "source": [
    "class Calibration():\n",
    "    \n",
    "    # TODO: type annotations\n",
    "    def __init__(self, calibration_dictionary):\n",
    "        \n",
    "        self._calibration  = calibration_dictionary\n",
    "        \n",
    "        \n",
    "    @property\n",
    "    def calibration(self):\n",
    "        return self._calibration\n",
    "    \n",
    "    def show_system_parameters(self):\n",
    "        calibration=self._calibration\n",
    "        system=calibration['parameters']['system']\n",
    "        for key, item in system.items():\n",
    "            pass\n",
    "            if isinstance(item, dict):\n",
    "                #print(dict(item))\n",
    "                if np.all([k in item for k in ['unit', 'value'] ]):\n",
    "                    value = item['value']\n",
    "                    unit  = item['unit']\n",
    "                    rprint(f'{key}: {value} [{unit}]')\n",
    "                else:\n",
    "                    timestamp = item['timestamp']\n",
    "                    print(f'{key}: calibration at {timestamp}')\n",
    "            else:\n",
    "                print('unknown structure {key}')\n",
    "\n",
    "    def show_qubit_parameters(self):\n",
    "        calibration=self.calibration\n",
    "        qdata=calibration['parameters']['qubits']\n",
    "        for qubit, data in qdata.items():\n",
    "                rprint(f'[green]Qubit[/green]: {qubit}')\n",
    "                \n",
    "                for key, item in data.items():\n",
    "                    # TODO add exception handling\n",
    "                    if isinstance(item, dict):\n",
    "                        #print(dict(item))\n",
    "                        symbol = key \n",
    "                        if 'symbol' in item:\n",
    "                            symbol=item['symbol']\n",
    "                            \n",
    "                        if np.all([k in item for k in ['unit', 'value'] ]):\n",
    "                            value = item['value']\n",
    "                            unit  = item['unit']\n",
    "                            print(f'  {symbol}: {value} [{unit}]')\n",
    "                        else:\n",
    "                            print('data at {key}?')\n",
    "                    else:\n",
    "                        print('unknown structure {key}')\n",
    "                    \n",
    "    def get_calibration(self, name):\n",
    "        if name not in calibration['parameters']['system']:\n",
    "            raise IndexError(f'calibration field {name} does not exist')\n",
    "        c=calibration['parameters']['system'][name]\n",
    "        return c\n",
    "        \n",
    "    def show_calibration(self, name):\n",
    "        c=self.get_calibration( name)\n",
    "            \n",
    "        if name not in calibration['parameters']['system']:\n",
    "            raise IndexError(f'error message {name}')\n",
    "        c=calibration['parameters']['system'][name]\n",
    "        rprint(f'[green]Calibration[/green]: {name}')\n",
    "        simple_keys = ['timestamp', 'status']\n",
    "        for key in simple_keys:\n",
    "            try:\n",
    "                value=c[key]\n",
    "                rprint(f'    [green]{key}[/green]: {value}')\n",
    "                #c['timestamp']\n",
    "            except Exception as ex:\n",
    "                print(f'{key} something sensible {ex}')\n",
    "                \n",
    "        fields = set(c.keys())-  set(simple_keys)\n",
    "        rprint(f'    [green]other fields[/green]:', end='')\n",
    "        print(f' {str(fields)}')\n",
    "\n",
    "        return c\n",
    "    \n",
    "    def __repr__(self):\n",
    "        return 'Calibration: {url} {timestamp} TODO: some nice representation'\n",
    "    "
   ]
  },
  {
   "cell_type": "code",
   "execution_count": 18,
   "id": "ccb8006c-3b6c-4f04-9141-9a7637f0f6bc",
   "metadata": {},
   "outputs": [
    {
     "data": {
      "text/html": [
       "<pre style=\"white-space:pre;overflow-x:auto;line-height:normal;font-family:Menlo,'DejaVu Sans Mono',consolas,'Courier New',monospace\">fridge_temperature: <span style=\"color: #008080; text-decoration-color: #008080; font-weight: bold\">0.0296</span> <span style=\"font-weight: bold\">[</span>K<span style=\"font-weight: bold\">]</span>\n",
       "</pre>\n"
      ],
      "text/plain": [
       "fridge_temperature: \u001b[1;36m0.0296\u001b[0m \u001b[1m[\u001b[0mK\u001b[1m]\u001b[0m\n"
      ]
     },
     "metadata": {},
     "output_type": "display_data"
    },
    {
     "data": {
      "text/html": [
       "<pre style=\"white-space:pre;overflow-x:auto;line-height:normal;font-family:Menlo,'DejaVu Sans Mono',consolas,'Courier New',monospace\">last_calibration_date: <span style=\"color: #008080; text-decoration-color: #008080; font-weight: bold\">2021</span>-<span style=\"color: #008080; text-decoration-color: #008080; font-weight: bold\">06</span>-25T<span style=\"color: #00ff00; text-decoration-color: #00ff00; font-weight: bold\">09:48:26</span>.<span style=\"color: #008080; text-decoration-color: #008080; font-weight: bold\">546612</span> \n",
       "</pre>\n"
      ],
      "text/plain": [
       "last_calibration_date: \u001b[1;36m2021\u001b[0m-\u001b[1;36m06\u001b[0m-25T\u001b[1;92m09:48:26\u001b[0m.\u001b[1;36m546612\u001b[0m \n"
      ]
     },
     "metadata": {},
     "output_type": "display_data"
    },
    {
     "data": {
      "text/html": [
       "<pre style=\"white-space:pre;overflow-x:auto;line-height:normal;font-family:Menlo,'DejaVu Sans Mono',consolas,'Courier New',monospace\"><span style=\"color: #008000; text-decoration-color: #008000\">Qubit</span>: q0\n",
       "</pre>\n"
      ],
      "text/plain": [
       "\u001b[32mQubit\u001b[0m: q0\n"
      ]
     },
     "metadata": {},
     "output_type": "display_data"
    },
    {
     "name": "stdout",
     "output_type": "stream",
     "text": [
      "  ω: 15582000000.0 [Hz]\n",
      "  T2*: 4.7e-06 [s]\n",
      "  Vis: 78.3 [%]\n"
     ]
    },
    {
     "data": {
      "text/html": [
       "<pre style=\"white-space:pre;overflow-x:auto;line-height:normal;font-family:Menlo,'DejaVu Sans Mono',consolas,'Courier New',monospace\"><span style=\"color: #008000; text-decoration-color: #008000\">Qubit</span>: q1\n",
       "</pre>\n"
      ],
      "text/plain": [
       "\u001b[32mQubit\u001b[0m: q1\n"
      ]
     },
     "metadata": {},
     "output_type": "display_data"
    },
    {
     "name": "stdout",
     "output_type": "stream",
     "text": [
      "  ω: 15799000000.0 [Hz]\n",
      "  T2*: 9.8e-06 [s]\n",
      "  Vis: 69.19999999999999 [%]\n",
      "readout error calibration does not exist\n"
     ]
    }
   ],
   "source": [
    "s= Calibration(calibration)\n",
    "s.show_system_parameters()\n",
    "s.show_qubit_parameters()\n",
    "\n",
    "try:\n",
    "    c=s.show_calibration('readout_error_calibration')\n",
    "except IndexError:\n",
    "        print('readout error calibration does not exist')"
   ]
  },
  {
   "cell_type": "code",
   "execution_count": null,
   "id": "09a0d14f-10ac-44a2-9f10-789627b05f55",
   "metadata": {},
   "outputs": [],
   "source": [
    "# TODO: pass standard deviations in calibration values (the decimals field is not suitable)"
   ]
  },
  {
   "cell_type": "code",
   "execution_count": null,
   "id": "2ffc3702-a6f4-4a79-8fc1-0e48ea5bb3e1",
   "metadata": {},
   "outputs": [],
   "source": []
  }
 ],
 "metadata": {
  "kernelspec": {
   "display_name": "Python 3 (ipykernel)",
   "language": "python",
   "name": "python3"
  },
  "language_info": {
   "codemirror_mode": {
    "name": "ipython",
    "version": 3
   },
   "file_extension": ".py",
   "mimetype": "text/x-python",
   "name": "python",
   "nbconvert_exporter": "python",
   "pygments_lexer": "ipython3",
   "version": "3.8.6"
  }
 },
 "nbformat": 4,
 "nbformat_minor": 5
}
